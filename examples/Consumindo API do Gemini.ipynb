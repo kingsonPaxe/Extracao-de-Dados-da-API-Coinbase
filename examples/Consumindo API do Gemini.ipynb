{
 "cells": [
  {
   "cell_type": "markdown",
   "id": "ef17cb6b",
   "metadata": {},
   "source": [
    "# **Consumindo a API do Gemini**"
   ]
  },
  {
   "cell_type": "code",
   "execution_count": 1,
   "id": "524bd0af",
   "metadata": {},
   "outputs": [],
   "source": [
    "import requests as rqts\n",
    "import json\n",
    "import os \n",
    "\n",
    "key = os.getenv('gemini_key') # a chave da autenticação\n",
    "API_Gemini = f'https://generativelanguage.googleapis.com/v1beta/models/gemini-2.0-flash:generateContent?key={key}'"
   ]
  },
  {
   "cell_type": "code",
   "execution_count": 2,
   "id": "4668a6c8",
   "metadata": {},
   "outputs": [
    {
     "name": "stdout",
     "output_type": "stream",
     "text": [
      "O que é a mémoria swap?\n",
      "A memória swap, também conhecida como espaço de troca, é uma parte do disco rígido (ou SSD) que o sistema operacional utiliza como memória virtual quando a RAM (memória física) está cheia. Em outras palavras, é uma extensão da RAM.\n",
      "\n",
      "**Como funciona:**\n",
      "\n",
      "1.  **RAM Cheia:** Quando a RAM do seu computador está completamente utilizada, e o sistema precisa armazenar mais dados, ele começa a transferir dados menos utilizados da RAM para o espaço de swap no disco.\n",
      "\n",
      "2.  **Swap In/Out:** Esse processo de mover dados entre a RAM e o swap é chamado de \"swap in\" (mover dados do swap para a RAM) e \"swap out\" (mover dados da RAM para o swap).\n",
      "\n",
      "3.  **Acesso Lento:** Quando o sistema precisa acessar dados que foram movidos para o swap, ele precisa primeiro buscá-los do disco rígido e colocá-los de volta na RAM. Discos rígidos (HDDs) e SSDs são muito mais lentos que a RAM, então o acesso a dados no swap é significativamente mais lento do que o acesso a dados na RAM.\n",
      "\n",
      "**Por que usar swap?**\n",
      "\n",
      "*   **Executar Mais Programas:** Permite que você execute mais programas simultaneamente do que a RAM física permitiria.\n",
      "*   **Evitar Falhas:** Impede que o sistema trave ou aborte programas quando a RAM está esgotada.\n",
      "*   **Hibernação:** Usada para salvar o estado atual do sistema (conteúdo da RAM) no disco rígido para que o computador possa ser desligado e restaurado posteriormente.\n",
      "\n",
      "**Desvantagens:**\n",
      "\n",
      "*   **Desempenho Lento:** A principal desvantagem é a lentidão. Acessar dados no swap é muito mais lento do que acessar dados na RAM, o que pode causar lentidão geral no sistema, travamentos e tempos de resposta mais longos.\n",
      "*   **Desgaste do SSD (menos relevante atualmente):** Em SSDs, o uso excessivo do swap pode contribuir para o desgaste ao longo do tempo, já que a escrita de dados no SSD tem um limite de ciclos. No entanto, os SSDs modernos são bastante duráveis e esse não é um problema tão grande quanto era antigamente.\n",
      "\n",
      "**Quando usar swap?**\n",
      "\n",
      "*   **Pouca RAM:** Se você tem pouca RAM física no seu computador, o swap pode ser útil para permitir que você execute mais programas.\n",
      "*   **Cargas de Trabalho Pesadas:** Se você executa programas que consomem muita memória (como edição de vídeo, jogos pesados ou simulações), o swap pode ajudar a evitar que o sistema trave.\n",
      "*   **Hibernação:** Se você usa a função de hibernação, o swap é essencial.\n",
      "\n",
      "**Alternativas:**\n",
      "\n",
      "*   **Aumentar a RAM:** A melhor solução para problemas de falta de memória é aumentar a quantidade de RAM física instalada no seu computador. Isso elimina a necessidade de usar o swap e melhora significativamente o desempenho.\n",
      "*   **Otimização:** Otimize o sistema operacional e os aplicativos para usar menos memória.\n",
      "\n",
      "**Em resumo:** A memória swap é uma ferramenta útil para sistemas com pouca RAM, mas deve ser vista como uma solução temporária. Aumentar a RAM é sempre a melhor opção para melhorar o desempenho geral do sistema.\n",
      "\n"
     ]
    }
   ],
   "source": [
    "inputs = input('Em que eu posso fazer por ti?\\n >>>')\n",
    "headers = {\n",
    "    \"Content-Type\":\"application/json\",\n",
    "}\n",
    "data = {\n",
    "  \"contents\": [{\n",
    "    \"parts\":[{\"text\": inputs}]\n",
    "    }]\n",
    "   }\n",
    "result = rqts.post(API_Gemini, headers=headers, data=json.dumps(data))\n",
    "\n",
    "print(inputs)\n",
    "print(result.json()['candidates'][0]['content']['parts'][0]['text'])"
   ]
  }
 ],
 "metadata": {
  "kernelspec": {
   "display_name": "Python 3",
   "language": "python",
   "name": "python3"
  },
  "language_info": {
   "codemirror_mode": {
    "name": "ipython",
    "version": 3
   },
   "file_extension": ".py",
   "mimetype": "text/x-python",
   "name": "python",
   "nbconvert_exporter": "python",
   "pygments_lexer": "ipython3",
   "version": "3.13.0"
  }
 },
 "nbformat": 4,
 "nbformat_minor": 5
}
