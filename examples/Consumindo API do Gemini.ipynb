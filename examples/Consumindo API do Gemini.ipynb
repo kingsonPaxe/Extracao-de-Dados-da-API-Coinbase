{
 "cells": [
  {
   "cell_type": "markdown",
   "id": "ef17cb6b",
   "metadata": {},
   "source": [
    "# **Consumindo a API do Gemini**"
   ]
  },
  {
   "cell_type": "code",
   "execution_count": 1,
   "id": "524bd0af",
   "metadata": {},
   "outputs": [],
   "source": [
    "import requests as rqts\n",
    "import json\n",
    "import os \n",
    "\n",
    "key = os.getenv('gemini_key') # a chave da autenticação\n",
    "API_Gemini = f'https://generativelanguage.googleapis.com/v1beta/models/gemini-2.0-flash:generateContent?key={key}'"
   ]
  },
  {
   "cell_type": "code",
   "execution_count": 2,
   "id": "4668a6c8",
   "metadata": {},
   "outputs": [
    {
     "name": "stdout",
     "output_type": "stream",
     "text": [
      "Angola comemora o seu Dia da Independência a 11 de novembro. Em 2024, Angola celebrará **49 anos** de independência. Angola tornou-se independente de Portugal em 11 de novembro de 1975.\n",
      "\n"
     ]
    }
   ],
   "source": [
    "inputs = input('Em que eu posso fazer por ti?\\n >>>')\n",
    "headers = {\n",
    "    \"Content-Type\":\"application/json\",\n",
    "}\n",
    "data = {\n",
    "  \"contents\": [{\n",
    "    \"parts\":[{\"text\": inputs}]\n",
    "    }]\n",
    "   }\n",
    "result = rqts.post(API_Gemini, headers=headers, data=json.dumps(data))\n",
    "\n",
    "print(result.json()['candidates'][0]['content']['parts'][0]['text'])"
   ]
  }
 ],
 "metadata": {
  "kernelspec": {
   "display_name": "venv",
   "language": "python",
   "name": "python3"
  },
  "language_info": {
   "codemirror_mode": {
    "name": "ipython",
    "version": 3
   },
   "file_extension": ".py",
   "mimetype": "text/x-python",
   "name": "python",
   "nbconvert_exporter": "python",
   "pygments_lexer": "ipython3",
   "version": "3.13.2"
  }
 },
 "nbformat": 4,
 "nbformat_minor": 5
}
