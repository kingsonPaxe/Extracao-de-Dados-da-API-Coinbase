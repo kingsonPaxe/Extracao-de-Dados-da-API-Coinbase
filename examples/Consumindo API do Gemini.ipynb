{
 "cells": [
  {
   "cell_type": "markdown",
   "id": "ef17cb6b",
   "metadata": {},
   "source": [
    "# **Consumindo a API do Gemini**"
   ]
  },
  {
   "cell_type": "code",
   "execution_count": 3,
   "id": "524bd0af",
   "metadata": {},
   "outputs": [],
   "source": [
    "import requests as rqts\n",
    "import json\n",
    "import os \n",
    "\n",
    "key = os.getenv('gemini_key') # a chave da autenticação\n",
    "API_Gemini = f'https://generativelanguage.googleapis.com/v1beta/models/gemini-2.0-flash:generateContent?key={key}'"
   ]
  },
  {
   "cell_type": "code",
   "execution_count": 4,
   "id": "4668a6c8",
   "metadata": {},
   "outputs": [
    {
     "name": "stdout",
     "output_type": "stream",
     "text": [
      "As consequências de beber cerveja variam muito de pessoa para pessoa e dependem de diversos fatores, como a quantidade consumida, a frequência, a saúde geral do indivíduo e se a pessoa está ou não dirigindo.\n",
      "\n",
      "**A curto prazo, beber cerveja pode causar:**\n",
      "\n",
      "*   **Efeitos prazerosos:**\n",
      "    *   Relaxamento\n",
      "    *   Sensação de bem-estar\n",
      "    *   Desinibição\n",
      "*   **Efeitos negativos:**\n",
      "    *   Coordenação motora reduzida\n",
      "    *   Fala arrastada\n",
      "    *   Visão turva\n",
      "    *   Náuseas e vômitos\n",
      "    *   Dor de cabeça (ressaca)\n",
      "    *   Comportamento agressivo ou impulsivo\n",
      "    *   Risco aumentado de acidentes (trânsito, quedas, etc.)\n",
      "    *   Em casos de consumo excessivo: coma alcoólico e morte\n",
      "\n",
      "**A longo prazo, o consumo excessivo e regular de cerveja pode levar a:**\n",
      "\n",
      "*   **Problemas de saúde:**\n",
      "    *   Doenças do fígado (cirrose, esteatose hepática)\n",
      "    *   Doenças do coração (cardiomiopatia alcoólica, arritmias)\n",
      "    *   Pressão alta\n",
      "    *   Câncer (boca, garganta, esôfago, fígado, mama, intestino)\n",
      "    *   Pancreatite\n",
      "    *   Danos cerebrais\n",
      "    *   Problemas de memória e concentração\n",
      "    *   Deficiências nutricionais\n",
      "    *   Gastrite e úlceras\n",
      "    *   Impotência sexual\n",
      "*   **Dependência:**\n",
      "    *   Alcoolismo (dependência física e psicológica do álcool)\n",
      "*   **Problemas sociais:**\n",
      "    *   Dificuldades nos relacionamentos\n",
      "    *   Problemas no trabalho ou nos estudos\n",
      "    *   Problemas financeiros\n",
      "    *   Isolamento social\n",
      "    *   Problemas com a lei\n",
      "\n",
      "**É importante lembrar que:**\n",
      "\n",
      "*   O consumo de álcool é proibido para menores de 18 anos.\n",
      "*   Mulheres grávidas não devem consumir álcool, pois pode causar sérios danos ao feto.\n",
      "*   Dirigir sob a influência do álcool é crime e coloca em risco a vida do motorista e de outras pessoas.\n",
      "*   Se você tem dúvidas sobre o seu consumo de álcool, procure ajuda médica.\n",
      "\n",
      "Se você quiser saber mais sobre os efeitos do álcool no organismo, posso te dar mais informações.\n"
     ]
    }
   ],
   "source": [
    "inputs = input('Em que eu posso fazer por ti?\\n >>>')\n",
    "headers = {\n",
    "    \"Content-Type\":\"application/json\",\n",
    "}\n",
    "data = {\n",
    "  \"contents\": [{\n",
    "    \"parts\":[{\"text\": inputs}]\n",
    "    }]\n",
    "   }\n",
    "result = rqts.post(API_Gemini, headers=headers, data=json.dumps(data))\n",
    "\n",
    "print(result.json()['candidates'][0]['content']['parts'][0]['text'])"
   ]
  }
 ],
 "metadata": {
  "kernelspec": {
   "display_name": "venv",
   "language": "python",
   "name": "python3"
  },
  "language_info": {
   "codemirror_mode": {
    "name": "ipython",
    "version": 3
   },
   "file_extension": ".py",
   "mimetype": "text/x-python",
   "name": "python",
   "nbconvert_exporter": "python",
   "pygments_lexer": "ipython3",
   "version": "3.13.2"
  }
 },
 "nbformat": 4,
 "nbformat_minor": 5
}
