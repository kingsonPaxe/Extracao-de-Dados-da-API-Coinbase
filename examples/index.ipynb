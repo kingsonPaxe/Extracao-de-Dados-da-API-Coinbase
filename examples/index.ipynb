{
 "cells": [
  {
   "cell_type": "code",
   "execution_count": null,
   "id": "cce48b73",
   "metadata": {},
   "outputs": [
    {
     "name": "stdout",
     "output_type": "stream",
     "text": [
      "6sE/cOUovNnnYVDqaVxsbA==bQAEoJNKsnFH96eU\n"
     ]
    }
   ],
   "source": [
    "import requests as rqts\n",
    "import pandas as pd\n",
    "import os \n",
    "\n",
    "url = 'https://jsonplaceholder.typicode.com/posts/1'\n",
    "url2  = 'https://api.api-ninjas.com/v1/cryptoprice?symbol=LTCBTC'\n",
    "urlBitCoin = 'https://api.api-ninjas.com/v1/bitcoin'\n",
    "key = os.getenv('chave') # a chave da autenticação"
   ]
  },
  {
   "cell_type": "code",
   "execution_count": 2,
   "id": "e3b2bc83",
   "metadata": {},
   "outputs": [
    {
     "data": {
      "text/plain": [
       "{'price': '103093.49000000',\n",
       " 'timestamp': 1747492725,\n",
       " '24h_price_change': '-433.86000000',\n",
       " '24h_price_change_percent': '-0.419',\n",
       " '24h_high': '104485.87000000',\n",
       " '24h_low': '102618.04000000',\n",
       " '24h_volume': '5.05344000'}"
      ]
     },
     "execution_count": 2,
     "metadata": {},
     "output_type": "execute_result"
    }
   ],
   "source": [
    "apiKey = {\n",
    "    'X-Api-Key':key, \n",
    "}\n",
    "result = rqts.get(urlBitCoin, apiKey)\n",
    "result = result.json()\n",
    "result\n",
    "\n"
   ]
  },
  {
   "cell_type": "code",
   "execution_count": 3,
   "id": "2767dbad",
   "metadata": {},
   "outputs": [
    {
     "data": {
      "text/html": [
       "<div>\n",
       "<style scoped>\n",
       "    .dataframe tbody tr th:only-of-type {\n",
       "        vertical-align: middle;\n",
       "    }\n",
       "\n",
       "    .dataframe tbody tr th {\n",
       "        vertical-align: top;\n",
       "    }\n",
       "\n",
       "    .dataframe thead th {\n",
       "        text-align: right;\n",
       "    }\n",
       "</style>\n",
       "<table border=\"1\" class=\"dataframe\">\n",
       "  <thead>\n",
       "    <tr style=\"text-align: right;\">\n",
       "      <th></th>\n",
       "      <th>price</th>\n",
       "      <th>timestamp</th>\n",
       "      <th>24h_price_change</th>\n",
       "      <th>24h_price_change_percent</th>\n",
       "      <th>24h_high</th>\n",
       "      <th>24h_low</th>\n",
       "      <th>24h_volume</th>\n",
       "    </tr>\n",
       "  </thead>\n",
       "  <tbody>\n",
       "    <tr>\n",
       "      <th>0</th>\n",
       "      <td>103093.49000000</td>\n",
       "      <td>1747492725</td>\n",
       "      <td>-433.86000000</td>\n",
       "      <td>-0.419</td>\n",
       "      <td>104485.87000000</td>\n",
       "      <td>102618.04000000</td>\n",
       "      <td>5.05344000</td>\n",
       "    </tr>\n",
       "  </tbody>\n",
       "</table>\n",
       "</div>"
      ],
      "text/plain": [
       "             price   timestamp 24h_price_change 24h_price_change_percent  \\\n",
       "0  103093.49000000  1747492725    -433.86000000                   -0.419   \n",
       "\n",
       "          24h_high          24h_low  24h_volume  \n",
       "0  104485.87000000  102618.04000000  5.05344000  "
      ]
     },
     "execution_count": 3,
     "metadata": {},
     "output_type": "execute_result"
    }
   ],
   "source": [
    "df = pd.DataFrame(data=[result])\n",
    "df"
   ]
  }
 ],
 "metadata": {
  "kernelspec": {
   "display_name": "venv",
   "language": "python",
   "name": "python3"
  },
  "language_info": {
   "codemirror_mode": {
    "name": "ipython",
    "version": 3
   },
   "file_extension": ".py",
   "mimetype": "text/x-python",
   "name": "python",
   "nbconvert_exporter": "python",
   "pygments_lexer": "ipython3",
   "version": "3.13.2"
  }
 },
 "nbformat": 4,
 "nbformat_minor": 5
}
