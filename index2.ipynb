{
 "cells": [
  {
   "cell_type": "code",
   "execution_count": 4,
   "id": "5316b373",
   "metadata": {},
   "outputs": [
    {
     "data": {
      "text/html": [
       "<div>\n",
       "<style scoped>\n",
       "    .dataframe tbody tr th:only-of-type {\n",
       "        vertical-align: middle;\n",
       "    }\n",
       "\n",
       "    .dataframe tbody tr th {\n",
       "        vertical-align: top;\n",
       "    }\n",
       "\n",
       "    .dataframe thead th {\n",
       "        text-align: right;\n",
       "    }\n",
       "</style>\n",
       "<table border=\"1\" class=\"dataframe\">\n",
       "  <thead>\n",
       "    <tr style=\"text-align: right;\">\n",
       "      <th></th>\n",
       "      <th>111183.675,BTC,USD, 1747992873.017362</th>\n",
       "    </tr>\n",
       "  </thead>\n",
       "  <tbody>\n",
       "    <tr>\n",
       "      <th>0</th>\n",
       "      <td>111165.945,BTC,USD, 1747993579.644878</td>\n",
       "    </tr>\n",
       "    <tr>\n",
       "      <th>1</th>\n",
       "      <td>111328.895,BTC,USD, 1747993800.374855</td>\n",
       "    </tr>\n",
       "    <tr>\n",
       "      <th>2</th>\n",
       "      <td>111329.585,BTC,USD, 1747993867.086418</td>\n",
       "    </tr>\n",
       "    <tr>\n",
       "      <th>3</th>\n",
       "      <td>111331.295,BTC,USD, 1747993899.032878</td>\n",
       "    </tr>\n",
       "    <tr>\n",
       "      <th>4</th>\n",
       "      <td>111338.365,BTC,USD, 1747993942.352271</td>\n",
       "    </tr>\n",
       "    <tr>\n",
       "      <th>...</th>\n",
       "      <td>...</td>\n",
       "    </tr>\n",
       "    <tr>\n",
       "      <th>93</th>\n",
       "      <td>111000.285,BTC,USD, 1747995905.485786</td>\n",
       "    </tr>\n",
       "    <tr>\n",
       "      <th>94</th>\n",
       "      <td>110949.655,BTC,USD, 1747995922.458021</td>\n",
       "    </tr>\n",
       "    <tr>\n",
       "      <th>95</th>\n",
       "      <td>110940.665,BTC,USD, 1747995938.126171</td>\n",
       "    </tr>\n",
       "    <tr>\n",
       "      <th>96</th>\n",
       "      <td>110935.24,BTC,USD, 1747995953.486374</td>\n",
       "    </tr>\n",
       "    <tr>\n",
       "      <th>97</th>\n",
       "      <td>110972.3,BTC,USD, 1747995968.948366</td>\n",
       "    </tr>\n",
       "  </tbody>\n",
       "</table>\n",
       "<p>98 rows × 1 columns</p>\n",
       "</div>"
      ],
      "text/plain": [
       "    111183.675,BTC,USD, 1747992873.017362\n",
       "0   111165.945,BTC,USD, 1747993579.644878\n",
       "1   111328.895,BTC,USD, 1747993800.374855\n",
       "2   111329.585,BTC,USD, 1747993867.086418\n",
       "3   111331.295,BTC,USD, 1747993899.032878\n",
       "4   111338.365,BTC,USD, 1747993942.352271\n",
       "..                                    ...\n",
       "93  111000.285,BTC,USD, 1747995905.485786\n",
       "94  110949.655,BTC,USD, 1747995922.458021\n",
       "95  110940.665,BTC,USD, 1747995938.126171\n",
       "96   110935.24,BTC,USD, 1747995953.486374\n",
       "97    110972.3,BTC,USD, 1747995968.948366\n",
       "\n",
       "[98 rows x 1 columns]"
      ]
     },
     "execution_count": 4,
     "metadata": {},
     "output_type": "execute_result"
    }
   ],
   "source": [
    "import pandas as pd\n",
    "\n",
    "with open('Data/dados_bitcoin.csv', 'r') as file:\n",
    "    # Read the CSV file into a DataFrame\n",
    "    df = pd.read_csv(file, sep=';', decimal=',')\n",
    "df"
   ]
  },
  {
   "cell_type": "code",
   "execution_count": 5,
   "id": "cfb3bcfb",
   "metadata": {},
   "outputs": [
    {
     "name": "stdout",
     "output_type": "stream",
     "text": [
      "/home/jeovanipaxe/Vídeos/Projectos do Estágio/Extra____o de API coin Base/venv/bin/pip: linha 2: /home/jeovanipaxe/Vídeos/Projectos do Estágio/Extração de API coin Base/venv/bin/python: Arquivo ou diretório inexistente\n"
     ]
    }
   ],
   "source": [
    "!pip install pandas"
   ]
  }
 ],
 "metadata": {
  "kernelspec": {
   "display_name": "Python 3",
   "language": "python",
   "name": "python3"
  },
  "language_info": {
   "codemirror_mode": {
    "name": "ipython",
    "version": 3
   },
   "file_extension": ".py",
   "mimetype": "text/x-python",
   "name": "python",
   "nbconvert_exporter": "python",
   "pygments_lexer": "ipython3",
   "version": "3.13.3"
  }
 },
 "nbformat": 4,
 "nbformat_minor": 5
}
